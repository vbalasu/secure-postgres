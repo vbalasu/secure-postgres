{
 "cells": [
  {
   "cell_type": "markdown",
   "id": "abf84254-4b5d-4e06-b78d-53cec45a28de",
   "metadata": {},
   "source": [
    "# secure-postgres-client"
   ]
  },
  {
   "cell_type": "code",
   "execution_count": 8,
   "id": "0dd6a4e5-bc0d-488d-ad53-9f457bba6797",
   "metadata": {},
   "outputs": [],
   "source": [
    "import os, mysecrets\n",
    "os.environ['PGPASSWORD']=mysecrets.PGPASSWORD"
   ]
  },
  {
   "cell_type": "code",
   "execution_count": 9,
   "id": "5f5a35f0-9ca4-4242-88d7-0858fcb9fb7c",
   "metadata": {},
   "outputs": [
    {
     "name": "stdout",
     "output_type": "stream",
     "text": [
      "CREATE TABLE\n"
     ]
    }
   ],
   "source": [
    "%%bash\n",
    "psql --host pi400.cloudmatica.com --user pi -c \"CREATE TABLE authors (name text, website text);\""
   ]
  },
  {
   "cell_type": "code",
   "execution_count": 10,
   "id": "7e9b7c37-7131-4dc8-8923-a44cb8b5f8e7",
   "metadata": {},
   "outputs": [
    {
     "name": "stdout",
     "output_type": "stream",
     "text": [
      "INSERT 0 1\n"
     ]
    }
   ],
   "source": [
    "%%bash\n",
    "psql --host pi400.cloudmatica.com --user pi -c \"INSERT INTO authors VALUES ('Emmet', 'pimylifeup.com');\""
   ]
  },
  {
   "cell_type": "code",
   "execution_count": 11,
   "id": "d6f06d0b-eed8-49f5-9c1d-a8046ac13691",
   "metadata": {},
   "outputs": [
    {
     "name": "stdout",
     "output_type": "stream",
     "text": [
      " name  |    website     \n",
      "-------+----------------\n",
      " Emmet | pimylifeup.com\n",
      "(1 row)\n",
      "\n"
     ]
    }
   ],
   "source": [
    "%%bash\n",
    "psql --host pi400.cloudmatica.com --user pi -c \"SELECT * FROM authors;\""
   ]
  },
  {
   "cell_type": "code",
   "execution_count": 13,
   "id": "02c68573-bd3b-4f62-863c-7a5624662e8f",
   "metadata": {},
   "outputs": [
    {
     "name": "stdout",
     "output_type": "stream",
     "text": [
      "Collecting psycopg2-binary\n",
      "  Downloading psycopg2_binary-2.9.3-cp39-cp39-macosx_10_14_x86_64.macosx_10_9_intel.macosx_10_9_x86_64.macosx_10_10_intel.macosx_10_10_x86_64.whl (2.2 MB)\n",
      "\u001b[K     |████████████████████████████████| 2.2 MB 4.1 MB/s eta 0:00:01\n",
      "\u001b[?25hInstalling collected packages: psycopg2-binary\n",
      "Successfully installed psycopg2-binary-2.9.3\n"
     ]
    }
   ],
   "source": [
    "!pip install psycopg2-binary"
   ]
  },
  {
   "cell_type": "code",
   "execution_count": 16,
   "id": "53ec1326-b9ee-4554-a44b-1ba5cb09f5a2",
   "metadata": {},
   "outputs": [],
   "source": [
    "import psycopg2, pandas as pd\n",
    "conn = psycopg2.connect(dbname='pi', user='pi', password=mysecrets.PGPASSWORD, host='pi400.cloudmatica.com')"
   ]
  },
  {
   "cell_type": "code",
   "execution_count": 17,
   "id": "3de5ba95-d59e-474a-b956-3c5a13bfdd97",
   "metadata": {},
   "outputs": [
    {
     "data": {
      "text/html": [
       "<div>\n",
       "<style scoped>\n",
       "    .dataframe tbody tr th:only-of-type {\n",
       "        vertical-align: middle;\n",
       "    }\n",
       "\n",
       "    .dataframe tbody tr th {\n",
       "        vertical-align: top;\n",
       "    }\n",
       "\n",
       "    .dataframe thead th {\n",
       "        text-align: right;\n",
       "    }\n",
       "</style>\n",
       "<table border=\"1\" class=\"dataframe\">\n",
       "  <thead>\n",
       "    <tr style=\"text-align: right;\">\n",
       "      <th></th>\n",
       "      <th>name</th>\n",
       "      <th>website</th>\n",
       "    </tr>\n",
       "  </thead>\n",
       "  <tbody>\n",
       "    <tr>\n",
       "      <th>0</th>\n",
       "      <td>Emmet</td>\n",
       "      <td>pimylifeup.com</td>\n",
       "    </tr>\n",
       "  </tbody>\n",
       "</table>\n",
       "</div>"
      ],
      "text/plain": [
       "    name         website\n",
       "0  Emmet  pimylifeup.com"
      ]
     },
     "execution_count": 17,
     "metadata": {},
     "output_type": "execute_result"
    }
   ],
   "source": [
    "df = pd.read_sql_query('SELECT * FROM AUTHORS;', conn)\n",
    "df"
   ]
  },
  {
   "cell_type": "code",
   "execution_count": 18,
   "id": "a8435d64-9a2c-4e8b-90b0-9059e9ff29b6",
   "metadata": {},
   "outputs": [],
   "source": [
    "conn = None"
   ]
  }
 ],
 "metadata": {
  "kernelspec": {
   "display_name": "Python 3 (ipykernel)",
   "language": "python",
   "name": "python3"
  },
  "language_info": {
   "codemirror_mode": {
    "name": "ipython",
    "version": 3
   },
   "file_extension": ".py",
   "mimetype": "text/x-python",
   "name": "python",
   "nbconvert_exporter": "python",
   "pygments_lexer": "ipython3",
   "version": "3.9.7"
  }
 },
 "nbformat": 4,
 "nbformat_minor": 5
}
