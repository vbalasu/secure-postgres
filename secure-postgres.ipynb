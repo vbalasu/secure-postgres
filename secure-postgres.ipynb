{
 "cells": [
  {
   "cell_type": "markdown",
   "id": "4ed1af9f-306a-406f-98a4-da9e252d31ef",
   "metadata": {},
   "source": [
    "### Install Postgres on Raspberry Pi\n",
    "\n",
    "Follow the instructions in this article: [Setting up a PostgreSQL Database on a Raspberry Pi](https://pimylifeup.com/raspberry-pi-postgresql/)\n"
   ]
  },
  {
   "cell_type": "code",
   "execution_count": 1,
   "id": "80e8bd15-84bb-4dce-91b4-ffd6b3873fa1",
   "metadata": {},
   "outputs": [
    {
     "name": "stdout",
     "output_type": "stream",
     "text": [
      "Hit:1 https://download.docker.com/linux/raspbian buster InRelease\n",
      "Hit:2 http://archive.raspberrypi.org/debian buster InRelease\n",
      "Hit:3 http://raspbian.raspberrypi.org/raspbian buster InRelease\n",
      "Reading package lists...\n",
      "Building dependency tree...\n",
      "Reading state information...\n",
      "98 packages can be upgraded. Run 'apt list --upgradable' to see them.\n",
      "Reading package lists...\n",
      "Building dependency tree...\n",
      "Reading state information...\n",
      "postgresql is already the newest version (11+200+deb10u4).\n",
      "0 upgraded, 0 newly installed, 0 to remove and 98 not upgraded.\n"
     ]
    },
    {
     "name": "stderr",
     "output_type": "stream",
     "text": [
      "\n",
      "WARNING: apt does not have a stable CLI interface. Use with caution in scripts.\n",
      "\n",
      "\n",
      "WARNING: apt does not have a stable CLI interface. Use with caution in scripts.\n",
      "\n"
     ]
    }
   ],
   "source": [
    "%%bash\n",
    "sudo apt update -y\n",
    "sudo apt install -y postgresql"
   ]
  },
  {
   "cell_type": "code",
   "execution_count": 2,
   "id": "26f3a750-4f9a-44f7-8f29-bad56d13f659",
   "metadata": {},
   "outputs": [
    {
     "data": {
      "text/html": [
       "<img src=\"secure-postgres-8x.gif\" width=\"1200px\" />\n"
      ],
      "text/plain": [
       "<IPython.core.display.HTML object>"
      ]
     },
     "metadata": {},
     "output_type": "display_data"
    }
   ],
   "source": [
    "%%html\n",
    "<img src=\"secure-postgres-8x.gif\" width=\"1200px\" />"
   ]
  },
  {
   "cell_type": "markdown",
   "id": "38d34ee1-20a6-49bf-9f0c-4409a5bc2f46",
   "metadata": {},
   "source": [
    "### Install nginx"
   ]
  },
  {
   "cell_type": "code",
   "execution_count": 1,
   "id": "7113abd3-b18d-40fd-a3ce-cc67885de5ca",
   "metadata": {},
   "outputs": [
    {
     "name": "stdout",
     "output_type": "stream",
     "text": [
      "● nginx.service - A high performance web server and a reverse proxy server\n",
      "   Loaded: loaded (/lib/systemd/system/nginx.service; enabled; vendor preset: enabled)\n",
      "   Active: active (running) since Sun 2022-05-29 00:19:26 PDT; 1 day 14h ago\n",
      "     Docs: man:nginx(8)\n",
      " Main PID: 562 (nginx)\n",
      "    Tasks: 5 (limit: 4915)\n",
      "   CGroup: /system.slice/nginx.service\n",
      "           ├─ 562 nginx: master process /usr/sbin/nginx -g daemon on; master_process on;\n",
      "           ├─1206 nginx: worker process\n",
      "           ├─1207 nginx: worker process\n",
      "           ├─1208 nginx: worker process\n",
      "           └─1209 nginx: worker process\n",
      "\n",
      "May 29 00:19:25 raspberrypi systemd[1]: Starting A high performance web server and a reverse proxy server...\n",
      "May 29 00:19:26 raspberrypi systemd[1]: Started A high performance web server and a reverse proxy server.\n"
     ]
    }
   ],
   "source": [
    "%%bash\n",
    "sudo apt install -y nginx\n",
    "sudo service nginx status"
   ]
  },
  {
   "cell_type": "markdown",
   "id": "bd7da4c0-d903-4bb1-ab5e-39e31d613756",
   "metadata": {},
   "source": [
    "### Enable SSL\n",
    "\n",
    "Open ports 80 and 443 on your router, and forward them to Raspberry Pi\n",
    "\n",
    "<img src=\"eero-raspberry-pi.png\" width=\"400px\">\n",
    "<img src=\"eero-web-80.png\" width=\"400px\">\n",
    "<img src=\"eero-web-443.png\" width=\"400px\">"
   ]
  },
  {
   "cell_type": "markdown",
   "id": "d6745053-3117-4cb3-8235-5523ad808306",
   "metadata": {},
   "source": [
    "#### Map a domain name to your external IP address using Route 53"
   ]
  },
  {
   "cell_type": "code",
   "execution_count": 3,
   "id": "c44150f2-cccf-45ae-9cc1-d84cbbee8e5b",
   "metadata": {},
   "outputs": [
    {
     "name": "stdout",
     "output_type": "stream",
     "text": [
      "71.202.157.221\n"
     ]
    }
   ],
   "source": [
    "# Find out your external IP address\n",
    "!curl ipconfig.io/ip"
   ]
  },
  {
   "cell_type": "markdown",
   "id": "8147de27-e8fa-4313-9926-eb0192b1ff86",
   "metadata": {},
   "source": [
    "<img src=\"route53-create-record.png\" width=\"600px\">"
   ]
  },
  {
   "cell_type": "markdown",
   "id": "0f8e93bb-0344-43c3-bb78-4808d77c8fd4",
   "metadata": {},
   "source": [
    "#### Confirm that you are able to reach your web server using the domain name\n",
    "\n",
    "If XFinity is your Internet service provider, this may only work from OUTSIDE the local network. Switch to your mobile Internet connection before proceeding\n",
    "\n",
    "eg. http://pi400.cloudmatica.com\n"
   ]
  },
  {
   "cell_type": "markdown",
   "id": "713cf97a-fc30-4c5d-a3a7-3a38a7e6f4cc",
   "metadata": {},
   "source": [
    "#### Upgrade your connection to https by running certbot"
   ]
  },
  {
   "cell_type": "code",
   "execution_count": 4,
   "id": "f02fe570-0b26-4851-860f-136dc1d17400",
   "metadata": {},
   "outputs": [
    {
     "name": "stdout",
     "output_type": "stream",
     "text": [
      "Reading package lists... Done\n",
      "Building dependency tree       \n",
      "Reading state information... Done\n",
      "certbot is already the newest version (0.31.0-1+deb10u1).\n",
      "python-certbot-nginx is already the newest version (0.31.0-1).\n",
      "0 upgraded, 0 newly installed, 0 to remove and 98 not upgraded.\n"
     ]
    }
   ],
   "source": [
    "!sudo apt install -y certbot python-certbot-nginx"
   ]
  },
  {
   "cell_type": "code",
   "execution_count": null,
   "id": "7a6d7015-cd5a-4ff8-b03f-8b2add69931f",
   "metadata": {},
   "outputs": [],
   "source": [
    "!sudo certbot --nginx --domains pi400.cloudmatica.com"
   ]
  },
  {
   "cell_type": "markdown",
   "id": "dabc996c-17f3-44a7-ac10-323be8ce8e69",
   "metadata": {},
   "source": [
    "<img src=\"certbot.gif\" width=\"800px\">"
   ]
  },
  {
   "cell_type": "markdown",
   "id": "1701ced8-8619-43f2-aca8-787f071857b5",
   "metadata": {},
   "source": [
    "### Set postgres to use your certbot/nginx certificate"
   ]
  },
  {
   "cell_type": "markdown",
   "id": "2e02f2fc-7451-4559-84b5-c3123c73a4af",
   "metadata": {},
   "source": [
    "#### First find the location of your postgresql.conf"
   ]
  },
  {
   "cell_type": "code",
   "execution_count": 5,
   "id": "9443b87c-3507-4d24-896b-14f460afa90f",
   "metadata": {},
   "outputs": [
    {
     "name": "stdout",
     "output_type": "stream",
     "text": [
      "/usr/lib/tmpfiles.d/postgresql.conf\n",
      "/etc/postgresql/11/main/postgresql.conf\n",
      "find: ‘/run/user/1000/gvfs’: Permission denied\n"
     ]
    }
   ],
   "source": [
    "!sudo find / -name 'postgresql.conf'"
   ]
  },
  {
   "cell_type": "code",
   "execution_count": 7,
   "id": "60c9f139-c2a0-42e5-868d-55b748c5823c",
   "metadata": {},
   "outputs": [
    {
     "name": "stdout",
     "output_type": "stream",
     "text": [
      "# -----------------------------\n",
      "# PostgreSQL configuration file\n",
      "# -----------------------------\n",
      "#\n",
      "# This file consists of lines of the form:\n",
      "#\n",
      "#   name = value\n",
      "#\n",
      "# (The \"=\" is optional.)  Whitespace may be used.  Comments are introduced with\n",
      "# \"#\" anywhere on a line.  The complete list of parameter names and allowed\n",
      "# values can be found in the PostgreSQL documentation.\n",
      "#\n",
      "# The commented-out settings shown in this file represent the default values.\n",
      "# Re-commenting a setting is NOT sufficient to revert it to the default value;\n",
      "# you need to reload the server.\n",
      "#\n",
      "# This file is read on server startup and when the server receives a SIGHUP\n",
      "# signal.  If you edit the file on a running system, you have to SIGHUP the\n",
      "# server for the changes to take effect, run \"pg_ctl reload\", or execute\n",
      "# \"SELECT pg_reload_conf()\".  Some parameters, which are marked below,\n",
      "# require a server shutdown and restart to take effect.\n",
      "#\n",
      "# Any parameter can also be given as a command-line option to the server, e.g.,\n",
      "# \"postgres -c log_connections=on\".  Some parameters can be changed at run time\n",
      "# with the \"SET\" SQL command.\n",
      "#\n",
      "# Memory units:   B  = bytes           Time units:  ms  = milliseconds\n",
      "#                kB = kilobytes                     s   = seconds\n",
      "#                MB = megabytes                     min = minutes\n",
      "#                GB = gigabytes                     h   = hours\n",
      "#                TB = terabytes                     d   = days\n",
      "\n",
      "\n",
      "#------------------------------------------------------------------------------\n",
      "# FILE LOCATIONS\n",
      "#------------------------------------------------------------------------------\n",
      "\n",
      "# The default values of these variables are driven from the -D command-line\n",
      "# option or PGDATA environment variable, represented here as ConfigDir.\n",
      "\n",
      "data_directory = '/var/lib/postgresql/11/main'\t\t# use data in another directory\n",
      "\t\t\t\t\t# (change requires restart)\n",
      "hba_file = '/etc/postgresql/11/main/pg_hba.conf'\t# host-based authentication file\n",
      "\t\t\t\t\t# (change requires restart)\n",
      "ident_file = '/etc/postgresql/11/main/pg_ident.conf'\t# ident configuration file\n",
      "\t\t\t\t\t# (change requires restart)\n",
      "\n",
      "# If external_pid_file is not explicitly set, no extra PID file is written.\n",
      "external_pid_file = '/var/run/postgresql/11-main.pid'\t\t\t# write an extra PID file\n",
      "\t\t\t\t\t# (change requires restart)\n"
     ]
    }
   ],
   "source": [
    "!head -n 50 /etc/postgresql/11/main/postgresql.conf"
   ]
  },
  {
   "cell_type": "markdown",
   "id": "1fcda907-aa02-42af-9833-0fa504fe23a2",
   "metadata": {},
   "source": [
    "#### Note the data_directory and hba_file locations above\n",
    "\n",
    "Also note that postgres uses \"snakeoil\" certificates by default. You can find them defined in postgresql.conf under `ssl_cert_file` and `ssl_key_file`"
   ]
  },
  {
   "cell_type": "markdown",
   "id": "ae398902-4173-4843-b1e4-63297db0b819",
   "metadata": {},
   "source": [
    "#### Copy the cert and key file from Letsencrypt into the Posgres data_directory\n",
    "\n",
    "[Secure TCP/IP Connections with SSL](https://www.postgresql.org/docs/9.1/ssl-tcp.html)\n",
    "Note that $PGDATA corresponds to the data_directory above"
   ]
  },
  {
   "cell_type": "code",
   "execution_count": 11,
   "id": "c837e449-4497-4ecc-aebb-4559d97b977b",
   "metadata": {},
   "outputs": [],
   "source": [
    "%%bash\n",
    "export PGDATA=/var/lib/postgresql/11/main\n",
    "# Copy the cert file\n",
    "sudo cp /etc/letsencrypt/live/pi400.cloudmatica.com/fullchain.pem $PGDATA/server.crt\n",
    "sudo cp /etc/letsencrypt/live/pi400.cloudmatica.com/privkey.pem $PGDATA/server.key\n",
    "sudo chmod 644 $PGDATA/server.crt\n",
    "sudo chmod 600 $PGDATA/server.key\n",
    "sudo chown postgres:postgres $PGDATA/server.crt\n",
    "sudo chown postgres:postgres $PGDATA/server.key"
   ]
  },
  {
   "cell_type": "markdown",
   "id": "206055e8-3ac2-4f2c-8423-5d6666077eae",
   "metadata": {},
   "source": [
    "#### Update postgresql.conf with the new ssl_cert_file and ssl_key_file\n",
    "\n",
    "#### Also, set the listen_address to * (all IP addresses)\n",
    "\n",
    "If you do a colordiff from the original, you should see something like the following\n",
    "\n",
    "<img src=\"colordiff-postgresql.conf.png\" width=\"800px\">"
   ]
  },
  {
   "cell_type": "code",
   "execution_count": 10,
   "id": "17286041-155a-4297-ab93-f8f31f3ff74a",
   "metadata": {},
   "outputs": [
    {
     "name": "stdout",
     "output_type": "stream",
     "text": [
      "● postgresql.service - PostgreSQL RDBMS\n",
      "   Loaded: loaded (/lib/systemd/system/postgresql.service; enabled; vendor preset: enabled)\n",
      "   Active: active (exited) since Mon 2022-05-30 15:52:09 PDT; 43ms ago\n",
      "  Process: 7460 ExecStart=/bin/true (code=exited, status=0/SUCCESS)\n",
      " Main PID: 7460 (code=exited, status=0/SUCCESS)\n",
      "\n",
      "May 30 15:52:09 raspberrypi systemd[1]: Starting PostgreSQL RDBMS...\n",
      "May 30 15:52:09 raspberrypi systemd[1]: Started PostgreSQL RDBMS.\n"
     ]
    }
   ],
   "source": [
    "%%bash\n",
    "# Restart postgresql service for the changes to take effect\n",
    "sudo service postgresql restart\n",
    "sudo service postgresql status"
   ]
  },
  {
   "cell_type": "markdown",
   "id": "55399306-9ee7-49dc-8396-c1241fda13a2",
   "metadata": {},
   "source": [
    "#### Forward port 5432 to your postgres server\n",
    "\n",
    "<img src=\"eero-postgres-5432.png\" width=\"400px\">"
   ]
  },
  {
   "cell_type": "markdown",
   "id": "7d612b1f-31a8-4786-b460-7555f1c7fd7f",
   "metadata": {},
   "source": [
    "#### Modify pg_hba.conf to allow connections to pi database\n",
    "\n",
    "Change to /etc/postgresql/11/main/pg_hba.conf should look like the following:\n",
    "\n",
    "<img src=\"colordiff-pg_hba.conf.png\" width=\"800px\">"
   ]
  },
  {
   "cell_type": "code",
   "execution_count": 1,
   "id": "e170ddb7-aec2-4903-ab7d-9523c1663536",
   "metadata": {},
   "outputs": [],
   "source": [
    "!sudo service postgresql restart"
   ]
  },
  {
   "cell_type": "code",
   "execution_count": null,
   "id": "ab00e027-db8d-414f-986a-33e3b7978e2d",
   "metadata": {},
   "outputs": [],
   "source": []
  }
 ],
 "metadata": {
  "kernelspec": {
   "display_name": "Python 3 (ipykernel)",
   "language": "python",
   "name": "python3"
  },
  "language_info": {
   "codemirror_mode": {
    "name": "ipython",
    "version": 3
   },
   "file_extension": ".py",
   "mimetype": "text/x-python",
   "name": "python",
   "nbconvert_exporter": "python",
   "pygments_lexer": "ipython3",
   "version": "3.7.3"
  }
 },
 "nbformat": 4,
 "nbformat_minor": 5
}
