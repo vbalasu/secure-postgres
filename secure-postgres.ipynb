{
 "cells": [
  {
   "cell_type": "markdown",
   "id": "4ed1af9f-306a-406f-98a4-da9e252d31ef",
   "metadata": {},
   "source": [
    "### Install Postgres on Raspberry Pi\n",
    "\n",
    "Follow the instructions in this article: [Setting up a PostgreSQL Database on a Raspberry Pi](https://pimylifeup.com/raspberry-pi-postgresql/)\n"
   ]
  },
  {
   "cell_type": "code",
   "execution_count": 1,
   "id": "80e8bd15-84bb-4dce-91b4-ffd6b3873fa1",
   "metadata": {},
   "outputs": [
    {
     "name": "stdout",
     "output_type": "stream",
     "text": [
      "Hit:1 https://download.docker.com/linux/raspbian buster InRelease\n",
      "Hit:2 http://archive.raspberrypi.org/debian buster InRelease\n",
      "Hit:3 http://raspbian.raspberrypi.org/raspbian buster InRelease\n",
      "Reading package lists...\n",
      "Building dependency tree...\n",
      "Reading state information...\n",
      "98 packages can be upgraded. Run 'apt list --upgradable' to see them.\n",
      "Reading package lists...\n",
      "Building dependency tree...\n",
      "Reading state information...\n",
      "postgresql is already the newest version (11+200+deb10u4).\n",
      "0 upgraded, 0 newly installed, 0 to remove and 98 not upgraded.\n"
     ]
    },
    {
     "name": "stderr",
     "output_type": "stream",
     "text": [
      "\n",
      "WARNING: apt does not have a stable CLI interface. Use with caution in scripts.\n",
      "\n",
      "\n",
      "WARNING: apt does not have a stable CLI interface. Use with caution in scripts.\n",
      "\n"
     ]
    }
   ],
   "source": [
    "%%bash\n",
    "sudo apt update -y\n",
    "sudo apt install -y postgresql"
   ]
  },
  {
   "cell_type": "code",
   "execution_count": 2,
   "id": "26f3a750-4f9a-44f7-8f29-bad56d13f659",
   "metadata": {},
   "outputs": [
    {
     "data": {
      "text/html": [
       "<img src=\"secure-postgres-8x.gif\" width=\"1200px\" />\n"
      ],
      "text/plain": [
       "<IPython.core.display.HTML object>"
      ]
     },
     "metadata": {},
     "output_type": "display_data"
    }
   ],
   "source": [
    "%%html\n",
    "<img src=\"secure-postgres-8x.gif\" width=\"1200px\" />"
   ]
  },
  {
   "cell_type": "code",
   "execution_count": null,
   "id": "f211e2e9-a6de-4e5d-87c2-77916cbc1088",
   "metadata": {},
   "outputs": [],
   "source": []
  }
 ],
 "metadata": {
  "kernelspec": {
   "display_name": "Python 3 (ipykernel)",
   "language": "python",
   "name": "python3"
  },
  "language_info": {
   "codemirror_mode": {
    "name": "ipython",
    "version": 3
   },
   "file_extension": ".py",
   "mimetype": "text/x-python",
   "name": "python",
   "nbconvert_exporter": "python",
   "pygments_lexer": "ipython3",
   "version": "3.7.3"
  }
 },
 "nbformat": 4,
 "nbformat_minor": 5
}
