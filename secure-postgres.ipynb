{
 "cells": [
  {
   "cell_type": "markdown",
   "id": "4ed1af9f-306a-406f-98a4-da9e252d31ef",
   "metadata": {},
   "source": [
    "### Install Postgres on Raspberry Pi\n",
    "\n",
    "Follow the instructions in this article: [Setting up a PostgreSQL Database on a Raspberry Pi](https://pimylifeup.com/raspberry-pi-postgresql/)\n"
   ]
  },
  {
   "cell_type": "code",
   "execution_count": 1,
   "id": "80e8bd15-84bb-4dce-91b4-ffd6b3873fa1",
   "metadata": {},
   "outputs": [
    {
     "name": "stdout",
     "output_type": "stream",
     "text": [
      "Hit:1 https://download.docker.com/linux/raspbian buster InRelease\n",
      "Hit:2 http://archive.raspberrypi.org/debian buster InRelease\n",
      "Hit:3 http://raspbian.raspberrypi.org/raspbian buster InRelease\n",
      "Reading package lists...\n",
      "Building dependency tree...\n",
      "Reading state information...\n",
      "98 packages can be upgraded. Run 'apt list --upgradable' to see them.\n",
      "Reading package lists...\n",
      "Building dependency tree...\n",
      "Reading state information...\n",
      "postgresql is already the newest version (11+200+deb10u4).\n",
      "0 upgraded, 0 newly installed, 0 to remove and 98 not upgraded.\n"
     ]
    },
    {
     "name": "stderr",
     "output_type": "stream",
     "text": [
      "\n",
      "WARNING: apt does not have a stable CLI interface. Use with caution in scripts.\n",
      "\n",
      "\n",
      "WARNING: apt does not have a stable CLI interface. Use with caution in scripts.\n",
      "\n"
     ]
    }
   ],
   "source": [
    "%%bash\n",
    "sudo apt update -y\n",
    "sudo apt install -y postgresql"
   ]
  },
  {
   "cell_type": "code",
   "execution_count": 2,
   "id": "26f3a750-4f9a-44f7-8f29-bad56d13f659",
   "metadata": {},
   "outputs": [
    {
     "data": {
      "text/html": [
       "<img src=\"secure-postgres-8x.gif\" width=\"1200px\" />\n"
      ],
      "text/plain": [
       "<IPython.core.display.HTML object>"
      ]
     },
     "metadata": {},
     "output_type": "display_data"
    }
   ],
   "source": [
    "%%html\n",
    "<img src=\"secure-postgres-8x.gif\" width=\"1200px\" />"
   ]
  },
  {
   "cell_type": "markdown",
   "id": "38d34ee1-20a6-49bf-9f0c-4409a5bc2f46",
   "metadata": {},
   "source": [
    "### Install nginx"
   ]
  },
  {
   "cell_type": "code",
   "execution_count": 1,
   "id": "7113abd3-b18d-40fd-a3ce-cc67885de5ca",
   "metadata": {},
   "outputs": [
    {
     "name": "stdout",
     "output_type": "stream",
     "text": [
      "● nginx.service - A high performance web server and a reverse proxy server\n",
      "   Loaded: loaded (/lib/systemd/system/nginx.service; enabled; vendor preset: enabled)\n",
      "   Active: active (running) since Sun 2022-05-29 00:19:26 PDT; 1 day 14h ago\n",
      "     Docs: man:nginx(8)\n",
      " Main PID: 562 (nginx)\n",
      "    Tasks: 5 (limit: 4915)\n",
      "   CGroup: /system.slice/nginx.service\n",
      "           ├─ 562 nginx: master process /usr/sbin/nginx -g daemon on; master_process on;\n",
      "           ├─1206 nginx: worker process\n",
      "           ├─1207 nginx: worker process\n",
      "           ├─1208 nginx: worker process\n",
      "           └─1209 nginx: worker process\n",
      "\n",
      "May 29 00:19:25 raspberrypi systemd[1]: Starting A high performance web server and a reverse proxy server...\n",
      "May 29 00:19:26 raspberrypi systemd[1]: Started A high performance web server and a reverse proxy server.\n"
     ]
    }
   ],
   "source": [
    "%%bash\n",
    "sudo apt install -y nginx\n",
    "sudo service nginx status"
   ]
  },
  {
   "cell_type": "markdown",
   "id": "bd7da4c0-d903-4bb1-ab5e-39e31d613756",
   "metadata": {},
   "source": [
    "### Enable SSL\n",
    "\n",
    "Open ports 80 and 443 on your router, and forward them to Raspberry Pi\n",
    "\n",
    "<img src=\"eero-raspberry-pi.png\" width=\"400px\">\n",
    "<img src=\"eero-web-80.png\" width=\"400px\">\n",
    "<img src=\"eero-web-443.png\" width=\"400px\">"
   ]
  },
  {
   "cell_type": "markdown",
   "id": "d6745053-3117-4cb3-8235-5523ad808306",
   "metadata": {},
   "source": [
    "#### Map a domain name to your external IP address using Route 53"
   ]
  },
  {
   "cell_type": "code",
   "execution_count": 3,
   "id": "c44150f2-cccf-45ae-9cc1-d84cbbee8e5b",
   "metadata": {},
   "outputs": [
    {
     "name": "stdout",
     "output_type": "stream",
     "text": [
      "71.202.157.221\n"
     ]
    }
   ],
   "source": [
    "# Find out your external IP address\n",
    "!curl ipconfig.io/ip"
   ]
  },
  {
   "cell_type": "markdown",
   "id": "8147de27-e8fa-4313-9926-eb0192b1ff86",
   "metadata": {},
   "source": [
    "<img src=\"route53-create-record.png\" width=\"600px\">"
   ]
  },
  {
   "cell_type": "markdown",
   "id": "0f8e93bb-0344-43c3-bb78-4808d77c8fd4",
   "metadata": {},
   "source": [
    "#### Confirm that you are able to reach your web server using the domain name\n",
    "\n",
    "If XFinity is your Internet service provider, this may only work from OUTSIDE the local network. Switch to your mobile Internet connection before proceeding\n",
    "\n",
    "eg. http://pi400.cloudmatica.com\n"
   ]
  },
  {
   "cell_type": "markdown",
   "id": "713cf97a-fc30-4c5d-a3a7-3a38a7e6f4cc",
   "metadata": {},
   "source": [
    "#### Upgrade your connection to https by running certbot"
   ]
  },
  {
   "cell_type": "code",
   "execution_count": 4,
   "id": "f02fe570-0b26-4851-860f-136dc1d17400",
   "metadata": {},
   "outputs": [
    {
     "name": "stdout",
     "output_type": "stream",
     "text": [
      "Reading package lists... Done\n",
      "Building dependency tree       \n",
      "Reading state information... Done\n",
      "certbot is already the newest version (0.31.0-1+deb10u1).\n",
      "python-certbot-nginx is already the newest version (0.31.0-1).\n",
      "0 upgraded, 0 newly installed, 0 to remove and 98 not upgraded.\n"
     ]
    }
   ],
   "source": [
    "!sudo apt install -y certbot python-certbot-nginx"
   ]
  },
  {
   "cell_type": "code",
   "execution_count": null,
   "id": "7a6d7015-cd5a-4ff8-b03f-8b2add69931f",
   "metadata": {},
   "outputs": [],
   "source": [
    "!sudo certbot --nginx --domains pi400.cloudmatica.com"
   ]
  },
  {
   "cell_type": "markdown",
   "id": "dabc996c-17f3-44a7-ac10-323be8ce8e69",
   "metadata": {},
   "source": [
    "<img src=\"certbot.gif\" width=\"800px\">"
   ]
  },
  {
   "cell_type": "code",
   "execution_count": null,
   "id": "1d426ced-e9e1-4791-9a26-762e7e22e669",
   "metadata": {},
   "outputs": [],
   "source": []
  }
 ],
 "metadata": {
  "kernelspec": {
   "display_name": "Python 3 (ipykernel)",
   "language": "python",
   "name": "python3"
  },
  "language_info": {
   "codemirror_mode": {
    "name": "ipython",
    "version": 3
   },
   "file_extension": ".py",
   "mimetype": "text/x-python",
   "name": "python",
   "nbconvert_exporter": "python",
   "pygments_lexer": "ipython3",
   "version": "3.7.3"
  }
 },
 "nbformat": 4,
 "nbformat_minor": 5
}
